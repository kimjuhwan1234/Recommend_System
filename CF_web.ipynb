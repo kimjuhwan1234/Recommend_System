{
 "cells": [
  {
   "cell_type": "code",
   "execution_count": 1,
   "id": "initial_id",
   "metadata": {
    "collapsed": true,
    "ExecuteTime": {
     "end_time": "2025-01-31T15:47:34.594798200Z",
     "start_time": "2025-01-31T15:47:15.643750100Z"
    }
   },
   "outputs": [
    {
     "name": "stdout",
     "output_type": "stream",
     "text": [
      "WARNING:tensorflow:From C:\\Users\\asas4\\anaconda3\\envs\\rmd_sys\\Lib\\site-packages\\tf_keras\\src\\losses.py:2976: The name tf.losses.sparse_softmax_cross_entropy is deprecated. Please use tf.compat.v1.losses.sparse_softmax_cross_entropy instead.\n"
     ]
    }
   ],
   "source": [
    "import nltk\n",
    "import warnings\n",
    "import numpy as np\n",
    "import pandas as pd\n",
    "from tqdm import tqdm\n",
    "from keybert import KeyBERT\n",
    "from sentence_transformers import SentenceTransformer\n",
    "from sklearn.metrics.pairwise import cosine_similarity\n",
    "\n",
    "tqdm.pandas()\n",
    "warnings.filterwarnings(\"ignore\")"
   ]
  },
  {
   "cell_type": "code",
   "outputs": [
    {
     "name": "stderr",
     "output_type": "stream",
     "text": [
      "[nltk_data] Downloading package punkt_tab to\n",
      "[nltk_data]     C:\\Users\\asas4\\AppData\\Roaming\\nltk_data...\n",
      "[nltk_data]   Package punkt_tab is already up-to-date!\n"
     ]
    }
   ],
   "source": [
    "nltk.download('punkt_tab')\n",
    "model = SentenceTransformer('sentence-transformers/distiluse-base-multilingual-cased-v2')"
   ],
   "metadata": {
    "collapsed": false,
    "ExecuteTime": {
     "end_time": "2025-01-31T15:47:38.120984800Z",
     "start_time": "2025-01-31T15:47:34.595799300Z"
    }
   },
   "id": "898e12df80afd12e",
   "execution_count": 2
  },
  {
   "cell_type": "code",
   "outputs": [],
   "source": [
    "data = pd.read_csv('Database/article_info.csv').fillna('NAN')\n",
    "view_log_df = pd.read_csv('Database/view_log.csv').drop_duplicates().reset_index(drop=True)\n",
    "view_log_df = pd.concat([view_log_df, pd.DataFrame([{'userID': 'USER_9999', 'articleID': 'ARTICLE_0001'}])],\n",
    "                        ignore_index=True)"
   ],
   "metadata": {
    "collapsed": false,
    "ExecuteTime": {
     "end_time": "2025-01-31T15:47:38.326854100Z",
     "start_time": "2025-01-31T15:47:38.121984900Z"
    }
   },
   "id": "374a19ef45357749",
   "execution_count": 3
  },
  {
   "cell_type": "code",
   "outputs": [],
   "source": [
    "pred_embeddings = model.encode(data.Language + \" \" + data.userCountry + \" \" + data.userRegion + \" \" + data.Title)\n",
    "pred_embeddings2 = model.encode(data.Content)\n",
    "\n",
    "kw_model = KeyBERT(model=model)\n",
    "keywords = kw_model.extract_keywords(docs=data.Title, top_n=1)\n",
    "keywords[1849] = [('.', 0.0)]\n",
    "data[\"Content_Keyword\"] = [pair[0] for sub_lst in keywords for pair in sub_lst]"
   ],
   "metadata": {
    "collapsed": false,
    "ExecuteTime": {
     "end_time": "2025-01-31T15:48:08.059719500Z",
     "start_time": "2025-01-31T15:47:38.328853900Z"
    }
   },
   "id": "ab1ad7b0173259d9",
   "execution_count": 4
  },
  {
   "cell_type": "code",
   "outputs": [],
   "source": [
    "def compute_similarity(article_id):\n",
    "    \"\"\"\n",
    "    주어진 article_id에 대해 title 및 content의 코사인 유사도를 계산\n",
    "    data, pred_embeddings, pred_embeddings2는 전역변수\n",
    "    \"\"\"\n",
    "    matching_indices = data.loc[data['articleID'] == article_id].index\n",
    "    if len(matching_indices) == 0:\n",
    "        return None, None  # 매칭이 없는 경우\n",
    "\n",
    "    title_embedding = pred_embeddings[matching_indices]\n",
    "    content_embedding = pred_embeddings2[matching_indices]\n",
    "\n",
    "    # 벡터 연산을 이용한 Cosine Similarity 계산\n",
    "    cosine_sim = cosine_similarity(title_embedding, pred_embeddings)\n",
    "    cosine_sim2 = cosine_similarity(content_embedding, pred_embeddings2)\n",
    "\n",
    "    return cosine_sim, cosine_sim2"
   ],
   "metadata": {
    "collapsed": false,
    "ExecuteTime": {
     "end_time": "2025-01-31T15:48:08.068794900Z",
     "start_time": "2025-01-31T15:48:08.059719500Z"
    }
   },
   "id": "26570eb41408c4b0",
   "execution_count": 5
  },
  {
   "cell_type": "code",
   "outputs": [],
   "source": [
    "def sb_calculation(data_list):\n",
    "    df = pd.DataFrame(data_list, columns=['userID', 'values'])\n",
    "\n",
    "    # 배열이 아닌 경우를 대비하여 NumPy 배열로 변환\n",
    "    df['values'] = df['values'].apply(lambda x: np.asarray(x) if isinstance(x, (list, np.ndarray)) else np.array([x]))\n",
    "\n",
    "    # 각 userID별 평균 계산 (벡터 연산)\n",
    "    grouped = df.groupby('userID')['values'].agg(lambda x: np.mean(np.vstack(x), axis=0))\n",
    "\n",
    "    # NumPy 배열로 변환 (메모리 최적화)\n",
    "    return np.vstack(grouped.values).astype(np.float32)"
   ],
   "metadata": {
    "collapsed": false,
    "ExecuteTime": {
     "end_time": "2025-01-31T15:48:08.078455100Z",
     "start_time": "2025-01-31T15:48:08.066735400Z"
    }
   },
   "id": "98c60034f951af97",
   "execution_count": 6
  },
  {
   "cell_type": "code",
   "outputs": [],
   "source": [
    "# view_log_df[['cosine_sim', 'cosine_sim2']] = pd.DataFrame(\n",
    "#     view_log_df['articleID'].progress_apply(lambda x: compute_similarity(x)).to_list(),\n",
    "#     index=view_log_df.index\n",
    "# )\n",
    "# \n",
    "# view_log_df[['cosine_sim', 'cosine_sim2']]=view_log_df[['cosine_sim', 'cosine_sim2']].applymap(lambda x: x[0])"
   ],
   "metadata": {
    "collapsed": false,
    "ExecuteTime": {
     "end_time": "2025-01-31T15:48:08.092755900Z",
     "start_time": "2025-01-31T15:48:08.076951900Z"
    }
   },
   "id": "308934910625c18e",
   "execution_count": 7
  },
  {
   "cell_type": "code",
   "outputs": [],
   "source": [
    "# df_0 = view_log_df.copy()\n",
    "# df_0.to_parquet('File/view_log_df.parquet')\n",
    "\n",
    "df_0 = pd.read_parquet('File/view_log_df.parquet')"
   ],
   "metadata": {
    "collapsed": false,
    "ExecuteTime": {
     "end_time": "2025-01-31T15:48:12.776306300Z",
     "start_time": "2025-01-31T15:48:10.888452Z"
    }
   },
   "id": "8ba494cce505d704",
   "execution_count": 8
  },
  {
   "cell_type": "code",
   "outputs": [],
   "source": [
    "unique_articles = set(data[\"articleID\"].unique()) - set(df_0[\"articleID\"].unique())\n",
    "new_data = pd.DataFrame({'userID': 'USER_9999', 'articleID': list(unique_articles)})\n",
    "df_0 = pd.concat([df_0, new_data], ignore_index=True)"
   ],
   "metadata": {
    "collapsed": false,
    "ExecuteTime": {
     "end_time": "2025-01-31T15:48:13.323019900Z",
     "start_time": "2025-01-31T15:48:13.313813200Z"
    }
   },
   "id": "6ce72fc79c3c246c",
   "execution_count": 9
  },
  {
   "cell_type": "code",
   "outputs": [],
   "source": [
    "data_list = df_0[['userID', 'cosine_sim']].dropna().values.tolist()\n",
    "data_list0 = df_0[['userID', 'cosine_sim2']].dropna().values.tolist()"
   ],
   "metadata": {
    "collapsed": false,
    "ExecuteTime": {
     "end_time": "2025-01-31T15:48:15.040668Z",
     "start_time": "2025-01-31T15:48:14.793806100Z"
    }
   },
   "id": "df1f267b37b1e03a",
   "execution_count": 10
  },
  {
   "cell_type": "code",
   "outputs": [],
   "source": [
    "user_article_matrix = df_0.groupby(['userID', 'articleID']).size().unstack(fill_value=0)\n",
    "user_article_matrix.loc[:, :] = sb_calculation(data_list)"
   ],
   "metadata": {
    "collapsed": false,
    "ExecuteTime": {
     "end_time": "2025-01-31T15:48:27.249121800Z",
     "start_time": "2025-01-31T15:48:16.091393900Z"
    }
   },
   "id": "a189671ad7373438",
   "execution_count": 11
  },
  {
   "cell_type": "code",
   "outputs": [],
   "source": [
    "user_article_matrix0 = df_0.groupby(['userID', 'articleID']).size().unstack(fill_value=0)\n",
    "user_article_matrix0.loc[:, :] = sb_calculation(data_list0)"
   ],
   "metadata": {
    "collapsed": false,
    "ExecuteTime": {
     "end_time": "2025-01-31T15:48:37.913077200Z",
     "start_time": "2025-01-31T15:48:27.251124300Z"
    }
   },
   "id": "d6d15f7e149c0dea",
   "execution_count": 12
  },
  {
   "cell_type": "code",
   "outputs": [],
   "source": [
    "df_0 = df_0.drop_duplicates(subset=['userID', 'articleID'], keep='first')"
   ],
   "metadata": {
    "collapsed": false,
    "ExecuteTime": {
     "end_time": "2025-01-31T15:48:37.925411800Z",
     "start_time": "2025-01-31T15:48:37.913077200Z"
    }
   },
   "id": "6ced5edf5bd9f171",
   "execution_count": 13
  },
  {
   "cell_type": "code",
   "outputs": [],
   "source": [
    "top5_columns_per_row = np.argsort(user_article_matrix, axis=1)[:, :5]\n",
    "top5_column_names_per_row = np.array(user_article_matrix.columns)[top5_columns_per_row]"
   ],
   "metadata": {
    "collapsed": false,
    "ExecuteTime": {
     "end_time": "2025-01-31T15:48:38.042299200Z",
     "start_time": "2025-01-31T15:48:37.926412Z"
    }
   },
   "id": "fa5dd7f37ab11bea",
   "execution_count": 14
  },
  {
   "cell_type": "code",
   "outputs": [
    {
     "data": {
      "text/plain": "array([['ARTICLE_1366', 'ARTICLE_0446', 'ARTICLE_0534', 'ARTICLE_1121',\n        'ARTICLE_2241'],\n       ['ARTICLE_0534', 'ARTICLE_1322', 'ARTICLE_0446', 'ARTICLE_1889',\n        'ARTICLE_0612'],\n       ['ARTICLE_0534', 'ARTICLE_1028', 'ARTICLE_1408', 'ARTICLE_1394',\n        'ARTICLE_0809'],\n       ...,\n       ['ARTICLE_1707', 'ARTICLE_1220', 'ARTICLE_2075', 'ARTICLE_2330',\n        'ARTICLE_0424'],\n       ['ARTICLE_0534', 'ARTICLE_2011', 'ARTICLE_2041', 'ARTICLE_0364',\n        'ARTICLE_1743'],\n       ['ARTICLE_1366', 'ARTICLE_1743', 'ARTICLE_2241', 'ARTICLE_0241',\n        'ARTICLE_1500']], dtype=object)"
     },
     "execution_count": 15,
     "metadata": {},
     "output_type": "execute_result"
    }
   ],
   "source": [
    "top5_column_names_per_row"
   ],
   "metadata": {
    "collapsed": false,
    "ExecuteTime": {
     "end_time": "2025-01-31T15:48:38.685040200Z",
     "start_time": "2025-01-31T15:48:38.677018200Z"
    }
   },
   "id": "57fda0838ca43b65",
   "execution_count": 15
  }
 ],
 "metadata": {
  "kernelspec": {
   "display_name": "Python 3",
   "language": "python",
   "name": "python3"
  },
  "language_info": {
   "codemirror_mode": {
    "name": "ipython",
    "version": 2
   },
   "file_extension": ".py",
   "mimetype": "text/x-python",
   "name": "python",
   "nbconvert_exporter": "python",
   "pygments_lexer": "ipython2",
   "version": "2.7.6"
  }
 },
 "nbformat": 4,
 "nbformat_minor": 5
}

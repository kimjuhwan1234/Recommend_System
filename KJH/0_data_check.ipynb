{
 "cells": [
  {
   "cell_type": "code",
   "execution_count": 1,
   "id": "initial_id",
   "metadata": {
    "collapsed": true,
    "ExecuteTime": {
     "end_time": "2025-01-23T04:18:14.749317100Z",
     "start_time": "2025-01-23T04:18:13.986224700Z"
    }
   },
   "outputs": [],
   "source": [
    "import numpy as np\n",
    "import pandas as pd"
   ]
  },
  {
   "cell_type": "code",
   "outputs": [
    {
     "data": {
      "text/plain": "         articleID                                              Title  \\\n0     ARTICLE_0000                       19 Tips For Everyday Git Use   \n1     ARTICLE_0001  Intel buys computer vision startup Itseez to i...   \n2     ARTICLE_0002       Practical End-to-End Testing with Protractor   \n3     ARTICLE_0003  Corporate venture growth in Brazil is another ...   \n4     ARTICLE_0004  Cross-channel user experiences with Drupal (aw...   \n...            ...                                                ...   \n3003  ARTICLE_3003  Como consumir conteúdo de qualidade em iOS - C...   \n3004  ARTICLE_3004                             Aurelia 1.0 is Here!!!   \n3005  ARTICLE_3005  Lessons from converting an app to 100% Kotlin ...   \n3006  ARTICLE_3006  ITA está oferecendo 10 cursos gratuitos a dist...   \n3007  ARTICLE_3007            Analytics startup Amplitude raises $15M   \n\n                                                Content Format Language  \\\n0     I've been using git full time for the past 4 y...   HTML       en   \n1     Intel has acquired computer vision and machine...   HTML       en   \n2     One of the reasons AngularJS is so great to wo...   HTML       en   \n3     Despite recent positive news and a renewed int...   HTML       en   \n4     Last year around this time, I wrote that The B...   HTML       en   \n...                                                 ...    ...      ...   \n3003  Quando iniciei minha jornada em Swift, saindo ...   HTML       pt   \n3004  It's been an amazing journey to get here and i...   HTML       en   \n3005  This is part one in a series of posts about Ko...   HTML       en   \n3006  O Instituto Tecnológico de Aeronáutica (ITA) ,...   HTML       pt   \n3007  Amplitude announced this morning that it has r...   HTML       en   \n\n         userID userCountry userRegion  \n0     USER_0683         NaN        NaN  \n1     USER_1129         NaN        NaN  \n2     USER_0256         NaN        NaN  \n3     USER_1304         NaN        NaN  \n4     USER_0336         NaN        NaN  \n...         ...         ...        ...  \n3003  USER_0882          BR         MG  \n3004  USER_0220         NaN        NaN  \n3005  USER_1010          BR         SP  \n3006  USER_1210         NaN        NaN  \n3007  USER_0067         NaN        NaN  \n\n[3008 rows x 8 columns]",
      "text/html": "<div>\n<style scoped>\n    .dataframe tbody tr th:only-of-type {\n        vertical-align: middle;\n    }\n\n    .dataframe tbody tr th {\n        vertical-align: top;\n    }\n\n    .dataframe thead th {\n        text-align: right;\n    }\n</style>\n<table border=\"1\" class=\"dataframe\">\n  <thead>\n    <tr style=\"text-align: right;\">\n      <th></th>\n      <th>articleID</th>\n      <th>Title</th>\n      <th>Content</th>\n      <th>Format</th>\n      <th>Language</th>\n      <th>userID</th>\n      <th>userCountry</th>\n      <th>userRegion</th>\n    </tr>\n  </thead>\n  <tbody>\n    <tr>\n      <th>0</th>\n      <td>ARTICLE_0000</td>\n      <td>19 Tips For Everyday Git Use</td>\n      <td>I've been using git full time for the past 4 y...</td>\n      <td>HTML</td>\n      <td>en</td>\n      <td>USER_0683</td>\n      <td>NaN</td>\n      <td>NaN</td>\n    </tr>\n    <tr>\n      <th>1</th>\n      <td>ARTICLE_0001</td>\n      <td>Intel buys computer vision startup Itseez to i...</td>\n      <td>Intel has acquired computer vision and machine...</td>\n      <td>HTML</td>\n      <td>en</td>\n      <td>USER_1129</td>\n      <td>NaN</td>\n      <td>NaN</td>\n    </tr>\n    <tr>\n      <th>2</th>\n      <td>ARTICLE_0002</td>\n      <td>Practical End-to-End Testing with Protractor</td>\n      <td>One of the reasons AngularJS is so great to wo...</td>\n      <td>HTML</td>\n      <td>en</td>\n      <td>USER_0256</td>\n      <td>NaN</td>\n      <td>NaN</td>\n    </tr>\n    <tr>\n      <th>3</th>\n      <td>ARTICLE_0003</td>\n      <td>Corporate venture growth in Brazil is another ...</td>\n      <td>Despite recent positive news and a renewed int...</td>\n      <td>HTML</td>\n      <td>en</td>\n      <td>USER_1304</td>\n      <td>NaN</td>\n      <td>NaN</td>\n    </tr>\n    <tr>\n      <th>4</th>\n      <td>ARTICLE_0004</td>\n      <td>Cross-channel user experiences with Drupal (aw...</td>\n      <td>Last year around this time, I wrote that The B...</td>\n      <td>HTML</td>\n      <td>en</td>\n      <td>USER_0336</td>\n      <td>NaN</td>\n      <td>NaN</td>\n    </tr>\n    <tr>\n      <th>...</th>\n      <td>...</td>\n      <td>...</td>\n      <td>...</td>\n      <td>...</td>\n      <td>...</td>\n      <td>...</td>\n      <td>...</td>\n      <td>...</td>\n    </tr>\n    <tr>\n      <th>3003</th>\n      <td>ARTICLE_3003</td>\n      <td>Como consumir conteúdo de qualidade em iOS - C...</td>\n      <td>Quando iniciei minha jornada em Swift, saindo ...</td>\n      <td>HTML</td>\n      <td>pt</td>\n      <td>USER_0882</td>\n      <td>BR</td>\n      <td>MG</td>\n    </tr>\n    <tr>\n      <th>3004</th>\n      <td>ARTICLE_3004</td>\n      <td>Aurelia 1.0 is Here!!!</td>\n      <td>It's been an amazing journey to get here and i...</td>\n      <td>HTML</td>\n      <td>en</td>\n      <td>USER_0220</td>\n      <td>NaN</td>\n      <td>NaN</td>\n    </tr>\n    <tr>\n      <th>3005</th>\n      <td>ARTICLE_3005</td>\n      <td>Lessons from converting an app to 100% Kotlin ...</td>\n      <td>This is part one in a series of posts about Ko...</td>\n      <td>HTML</td>\n      <td>en</td>\n      <td>USER_1010</td>\n      <td>BR</td>\n      <td>SP</td>\n    </tr>\n    <tr>\n      <th>3006</th>\n      <td>ARTICLE_3006</td>\n      <td>ITA está oferecendo 10 cursos gratuitos a dist...</td>\n      <td>O Instituto Tecnológico de Aeronáutica (ITA) ,...</td>\n      <td>HTML</td>\n      <td>pt</td>\n      <td>USER_1210</td>\n      <td>NaN</td>\n      <td>NaN</td>\n    </tr>\n    <tr>\n      <th>3007</th>\n      <td>ARTICLE_3007</td>\n      <td>Analytics startup Amplitude raises $15M</td>\n      <td>Amplitude announced this morning that it has r...</td>\n      <td>HTML</td>\n      <td>en</td>\n      <td>USER_0067</td>\n      <td>NaN</td>\n      <td>NaN</td>\n    </tr>\n  </tbody>\n</table>\n<p>3008 rows × 8 columns</p>\n</div>"
     },
     "execution_count": 2,
     "metadata": {},
     "output_type": "execute_result"
    }
   ],
   "source": [
    "pd.read_csv('./Database/article_info.csv')"
   ],
   "metadata": {
    "collapsed": false,
    "ExecuteTime": {
     "end_time": "2025-01-23T04:18:51.581042400Z",
     "start_time": "2025-01-23T04:18:51.337287900Z"
    }
   },
   "id": "2a19733dad2577bb",
   "execution_count": 2
  },
  {
   "cell_type": "code",
   "outputs": [
    {
     "data": {
      "text/plain": "          userID     articleID userRegion userCountry\n0      USER_0000  ARTICLE_0661         NY          US\n1      USER_0000  ARTICLE_2316         NY          US\n2      USER_0000  ARTICLE_1345         NY          US\n3      USER_0000  ARTICLE_1089         NY          US\n4      USER_0000  ARTICLE_1484         NY          US\n...          ...           ...        ...         ...\n42712  USER_1420  ARTICLE_0682         SP          BR\n42713  USER_1420  ARTICLE_2179         SP          BR\n42714  USER_1420  ARTICLE_1848         SP          BR\n42715  USER_1420  ARTICLE_0030         SP          BR\n42716  USER_1420  ARTICLE_2423         SP          BR\n\n[42717 rows x 4 columns]",
      "text/html": "<div>\n<style scoped>\n    .dataframe tbody tr th:only-of-type {\n        vertical-align: middle;\n    }\n\n    .dataframe tbody tr th {\n        vertical-align: top;\n    }\n\n    .dataframe thead th {\n        text-align: right;\n    }\n</style>\n<table border=\"1\" class=\"dataframe\">\n  <thead>\n    <tr style=\"text-align: right;\">\n      <th></th>\n      <th>userID</th>\n      <th>articleID</th>\n      <th>userRegion</th>\n      <th>userCountry</th>\n    </tr>\n  </thead>\n  <tbody>\n    <tr>\n      <th>0</th>\n      <td>USER_0000</td>\n      <td>ARTICLE_0661</td>\n      <td>NY</td>\n      <td>US</td>\n    </tr>\n    <tr>\n      <th>1</th>\n      <td>USER_0000</td>\n      <td>ARTICLE_2316</td>\n      <td>NY</td>\n      <td>US</td>\n    </tr>\n    <tr>\n      <th>2</th>\n      <td>USER_0000</td>\n      <td>ARTICLE_1345</td>\n      <td>NY</td>\n      <td>US</td>\n    </tr>\n    <tr>\n      <th>3</th>\n      <td>USER_0000</td>\n      <td>ARTICLE_1089</td>\n      <td>NY</td>\n      <td>US</td>\n    </tr>\n    <tr>\n      <th>4</th>\n      <td>USER_0000</td>\n      <td>ARTICLE_1484</td>\n      <td>NY</td>\n      <td>US</td>\n    </tr>\n    <tr>\n      <th>...</th>\n      <td>...</td>\n      <td>...</td>\n      <td>...</td>\n      <td>...</td>\n    </tr>\n    <tr>\n      <th>42712</th>\n      <td>USER_1420</td>\n      <td>ARTICLE_0682</td>\n      <td>SP</td>\n      <td>BR</td>\n    </tr>\n    <tr>\n      <th>42713</th>\n      <td>USER_1420</td>\n      <td>ARTICLE_2179</td>\n      <td>SP</td>\n      <td>BR</td>\n    </tr>\n    <tr>\n      <th>42714</th>\n      <td>USER_1420</td>\n      <td>ARTICLE_1848</td>\n      <td>SP</td>\n      <td>BR</td>\n    </tr>\n    <tr>\n      <th>42715</th>\n      <td>USER_1420</td>\n      <td>ARTICLE_0030</td>\n      <td>SP</td>\n      <td>BR</td>\n    </tr>\n    <tr>\n      <th>42716</th>\n      <td>USER_1420</td>\n      <td>ARTICLE_2423</td>\n      <td>SP</td>\n      <td>BR</td>\n    </tr>\n  </tbody>\n</table>\n<p>42717 rows × 4 columns</p>\n</div>"
     },
     "execution_count": 3,
     "metadata": {},
     "output_type": "execute_result"
    }
   ],
   "source": [
    "pd.read_csv('./Database/view_log.csv')"
   ],
   "metadata": {
    "collapsed": false,
    "ExecuteTime": {
     "end_time": "2025-01-23T04:19:07.845643700Z",
     "start_time": "2025-01-23T04:19:07.812171600Z"
    }
   },
   "id": "ba33cbc8cc827ab7",
   "execution_count": 3
  },
  {
   "cell_type": "code",
   "outputs": [
    {
     "data": {
      "text/plain": "         userID     articleID\n0     USER_0000  ARTICLE_0000\n1     USER_0000  ARTICLE_0001\n2     USER_0000  ARTICLE_0002\n3     USER_0000  ARTICLE_0003\n4     USER_0000  ARTICLE_0004\n...         ...           ...\n7070  USER_1420  ARTICLE_0000\n7071  USER_1420  ARTICLE_0001\n7072  USER_1420  ARTICLE_0002\n7073  USER_1420  ARTICLE_0003\n7074  USER_1420  ARTICLE_0004\n\n[7075 rows x 2 columns]",
      "text/html": "<div>\n<style scoped>\n    .dataframe tbody tr th:only-of-type {\n        vertical-align: middle;\n    }\n\n    .dataframe tbody tr th {\n        vertical-align: top;\n    }\n\n    .dataframe thead th {\n        text-align: right;\n    }\n</style>\n<table border=\"1\" class=\"dataframe\">\n  <thead>\n    <tr style=\"text-align: right;\">\n      <th></th>\n      <th>userID</th>\n      <th>articleID</th>\n    </tr>\n  </thead>\n  <tbody>\n    <tr>\n      <th>0</th>\n      <td>USER_0000</td>\n      <td>ARTICLE_0000</td>\n    </tr>\n    <tr>\n      <th>1</th>\n      <td>USER_0000</td>\n      <td>ARTICLE_0001</td>\n    </tr>\n    <tr>\n      <th>2</th>\n      <td>USER_0000</td>\n      <td>ARTICLE_0002</td>\n    </tr>\n    <tr>\n      <th>3</th>\n      <td>USER_0000</td>\n      <td>ARTICLE_0003</td>\n    </tr>\n    <tr>\n      <th>4</th>\n      <td>USER_0000</td>\n      <td>ARTICLE_0004</td>\n    </tr>\n    <tr>\n      <th>...</th>\n      <td>...</td>\n      <td>...</td>\n    </tr>\n    <tr>\n      <th>7070</th>\n      <td>USER_1420</td>\n      <td>ARTICLE_0000</td>\n    </tr>\n    <tr>\n      <th>7071</th>\n      <td>USER_1420</td>\n      <td>ARTICLE_0001</td>\n    </tr>\n    <tr>\n      <th>7072</th>\n      <td>USER_1420</td>\n      <td>ARTICLE_0002</td>\n    </tr>\n    <tr>\n      <th>7073</th>\n      <td>USER_1420</td>\n      <td>ARTICLE_0003</td>\n    </tr>\n    <tr>\n      <th>7074</th>\n      <td>USER_1420</td>\n      <td>ARTICLE_0004</td>\n    </tr>\n  </tbody>\n</table>\n<p>7075 rows × 2 columns</p>\n</div>"
     },
     "execution_count": 4,
     "metadata": {},
     "output_type": "execute_result"
    }
   ],
   "source": [
    "pd.read_csv('./Database/sample_submission.csv')"
   ],
   "metadata": {
    "collapsed": false,
    "ExecuteTime": {
     "end_time": "2025-01-23T04:19:25.884542800Z",
     "start_time": "2025-01-23T04:19:25.840924Z"
    }
   },
   "id": "80b698a2959ed144",
   "execution_count": 4
  },
  {
   "cell_type": "code",
   "outputs": [],
   "source": [
    "df_0=pd.read_csv('./Database/ncf_data.csv')"
   ],
   "metadata": {
    "collapsed": false,
    "ExecuteTime": {
     "end_time": "2025-01-23T04:22:50.203875400Z",
     "start_time": "2025-01-23T04:22:50.161410700Z"
    }
   },
   "id": "5811da7393a118d6",
   "execution_count": 6
  },
  {
   "cell_type": "code",
   "outputs": [
    {
     "data": {
      "text/plain": "43019"
     },
     "execution_count": 10,
     "metadata": {},
     "output_type": "execute_result"
    }
   ],
   "source": [
    "len(df_0)"
   ],
   "metadata": {
    "collapsed": false,
    "ExecuteTime": {
     "end_time": "2025-01-23T04:23:31.258549500Z",
     "start_time": "2025-01-23T04:23:31.249674200Z"
    }
   },
   "id": "ed184261f57831a2",
   "execution_count": 10
  },
  {
   "cell_type": "code",
   "outputs": [
    {
     "data": {
      "text/plain": "20246"
     },
     "execution_count": 9,
     "metadata": {},
     "output_type": "execute_result"
    }
   ],
   "source": [
    "df_0['u_id'].nunique()"
   ],
   "metadata": {
    "collapsed": false,
    "ExecuteTime": {
     "end_time": "2025-01-23T04:23:19.925091100Z",
     "start_time": "2025-01-23T04:23:19.907827400Z"
    }
   },
   "id": "bca8646551dcc922",
   "execution_count": 9
  }
 ],
 "metadata": {
  "kernelspec": {
   "display_name": "Python 3",
   "language": "python",
   "name": "python3"
  },
  "language_info": {
   "codemirror_mode": {
    "name": "ipython",
    "version": 2
   },
   "file_extension": ".py",
   "mimetype": "text/x-python",
   "name": "python",
   "nbconvert_exporter": "python",
   "pygments_lexer": "ipython2",
   "version": "2.7.6"
  }
 },
 "nbformat": 4,
 "nbformat_minor": 5
}

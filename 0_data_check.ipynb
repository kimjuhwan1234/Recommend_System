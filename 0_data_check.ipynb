{
 "cells": [
  {
   "cell_type": "code",
   "execution_count": 1,
   "id": "initial_id",
   "metadata": {
    "collapsed": true,
    "ExecuteTime": {
     "end_time": "2025-01-23T09:09:45.313127900Z",
     "start_time": "2025-01-23T09:09:44.067411400Z"
    }
   },
   "outputs": [],
   "source": [
    "import numpy as np\n",
    "import pandas as pd\n",
    "from sklearn.preprocessing import LabelEncoder\n",
    "from sklearn.model_selection import train_test_split\n",
    "from sklearn.metrics.pairwise import cosine_similarity"
   ]
  },
  {
   "cell_type": "code",
   "outputs": [
    {
     "data": {
      "text/plain": "         articleID                                              Title  \\\n0     ARTICLE_0000                       19 Tips For Everyday Git Use   \n1     ARTICLE_0001  Intel buys computer vision startup Itseez to i...   \n2     ARTICLE_0002       Practical End-to-End Testing with Protractor   \n3     ARTICLE_0003  Corporate venture growth in Brazil is another ...   \n4     ARTICLE_0004  Cross-channel user experiences with Drupal (aw...   \n...            ...                                                ...   \n3003  ARTICLE_3003  Como consumir conteúdo de qualidade em iOS - C...   \n3004  ARTICLE_3004                             Aurelia 1.0 is Here!!!   \n3005  ARTICLE_3005  Lessons from converting an app to 100% Kotlin ...   \n3006  ARTICLE_3006  ITA está oferecendo 10 cursos gratuitos a dist...   \n3007  ARTICLE_3007            Analytics startup Amplitude raises $15M   \n\n                                                Content Format Language  \\\n0     I've been using git full time for the past 4 y...   HTML       en   \n1     Intel has acquired computer vision and machine...   HTML       en   \n2     One of the reasons AngularJS is so great to wo...   HTML       en   \n3     Despite recent positive news and a renewed int...   HTML       en   \n4     Last year around this time, I wrote that The B...   HTML       en   \n...                                                 ...    ...      ...   \n3003  Quando iniciei minha jornada em Swift, saindo ...   HTML       pt   \n3004  It's been an amazing journey to get here and i...   HTML       en   \n3005  This is part one in a series of posts about Ko...   HTML       en   \n3006  O Instituto Tecnológico de Aeronáutica (ITA) ,...   HTML       pt   \n3007  Amplitude announced this morning that it has r...   HTML       en   \n\n         userID userCountry userRegion  \n0     USER_0683         NaN        NaN  \n1     USER_1129         NaN        NaN  \n2     USER_0256         NaN        NaN  \n3     USER_1304         NaN        NaN  \n4     USER_0336         NaN        NaN  \n...         ...         ...        ...  \n3003  USER_0882          BR         MG  \n3004  USER_0220         NaN        NaN  \n3005  USER_1010          BR         SP  \n3006  USER_1210         NaN        NaN  \n3007  USER_0067         NaN        NaN  \n\n[3008 rows x 8 columns]",
      "text/html": "<div>\n<style scoped>\n    .dataframe tbody tr th:only-of-type {\n        vertical-align: middle;\n    }\n\n    .dataframe tbody tr th {\n        vertical-align: top;\n    }\n\n    .dataframe thead th {\n        text-align: right;\n    }\n</style>\n<table border=\"1\" class=\"dataframe\">\n  <thead>\n    <tr style=\"text-align: right;\">\n      <th></th>\n      <th>articleID</th>\n      <th>Title</th>\n      <th>Content</th>\n      <th>Format</th>\n      <th>Language</th>\n      <th>userID</th>\n      <th>userCountry</th>\n      <th>userRegion</th>\n    </tr>\n  </thead>\n  <tbody>\n    <tr>\n      <th>0</th>\n      <td>ARTICLE_0000</td>\n      <td>19 Tips For Everyday Git Use</td>\n      <td>I've been using git full time for the past 4 y...</td>\n      <td>HTML</td>\n      <td>en</td>\n      <td>USER_0683</td>\n      <td>NaN</td>\n      <td>NaN</td>\n    </tr>\n    <tr>\n      <th>1</th>\n      <td>ARTICLE_0001</td>\n      <td>Intel buys computer vision startup Itseez to i...</td>\n      <td>Intel has acquired computer vision and machine...</td>\n      <td>HTML</td>\n      <td>en</td>\n      <td>USER_1129</td>\n      <td>NaN</td>\n      <td>NaN</td>\n    </tr>\n    <tr>\n      <th>2</th>\n      <td>ARTICLE_0002</td>\n      <td>Practical End-to-End Testing with Protractor</td>\n      <td>One of the reasons AngularJS is so great to wo...</td>\n      <td>HTML</td>\n      <td>en</td>\n      <td>USER_0256</td>\n      <td>NaN</td>\n      <td>NaN</td>\n    </tr>\n    <tr>\n      <th>3</th>\n      <td>ARTICLE_0003</td>\n      <td>Corporate venture growth in Brazil is another ...</td>\n      <td>Despite recent positive news and a renewed int...</td>\n      <td>HTML</td>\n      <td>en</td>\n      <td>USER_1304</td>\n      <td>NaN</td>\n      <td>NaN</td>\n    </tr>\n    <tr>\n      <th>4</th>\n      <td>ARTICLE_0004</td>\n      <td>Cross-channel user experiences with Drupal (aw...</td>\n      <td>Last year around this time, I wrote that The B...</td>\n      <td>HTML</td>\n      <td>en</td>\n      <td>USER_0336</td>\n      <td>NaN</td>\n      <td>NaN</td>\n    </tr>\n    <tr>\n      <th>...</th>\n      <td>...</td>\n      <td>...</td>\n      <td>...</td>\n      <td>...</td>\n      <td>...</td>\n      <td>...</td>\n      <td>...</td>\n      <td>...</td>\n    </tr>\n    <tr>\n      <th>3003</th>\n      <td>ARTICLE_3003</td>\n      <td>Como consumir conteúdo de qualidade em iOS - C...</td>\n      <td>Quando iniciei minha jornada em Swift, saindo ...</td>\n      <td>HTML</td>\n      <td>pt</td>\n      <td>USER_0882</td>\n      <td>BR</td>\n      <td>MG</td>\n    </tr>\n    <tr>\n      <th>3004</th>\n      <td>ARTICLE_3004</td>\n      <td>Aurelia 1.0 is Here!!!</td>\n      <td>It's been an amazing journey to get here and i...</td>\n      <td>HTML</td>\n      <td>en</td>\n      <td>USER_0220</td>\n      <td>NaN</td>\n      <td>NaN</td>\n    </tr>\n    <tr>\n      <th>3005</th>\n      <td>ARTICLE_3005</td>\n      <td>Lessons from converting an app to 100% Kotlin ...</td>\n      <td>This is part one in a series of posts about Ko...</td>\n      <td>HTML</td>\n      <td>en</td>\n      <td>USER_1010</td>\n      <td>BR</td>\n      <td>SP</td>\n    </tr>\n    <tr>\n      <th>3006</th>\n      <td>ARTICLE_3006</td>\n      <td>ITA está oferecendo 10 cursos gratuitos a dist...</td>\n      <td>O Instituto Tecnológico de Aeronáutica (ITA) ,...</td>\n      <td>HTML</td>\n      <td>pt</td>\n      <td>USER_1210</td>\n      <td>NaN</td>\n      <td>NaN</td>\n    </tr>\n    <tr>\n      <th>3007</th>\n      <td>ARTICLE_3007</td>\n      <td>Analytics startup Amplitude raises $15M</td>\n      <td>Amplitude announced this morning that it has r...</td>\n      <td>HTML</td>\n      <td>en</td>\n      <td>USER_0067</td>\n      <td>NaN</td>\n      <td>NaN</td>\n    </tr>\n  </tbody>\n</table>\n<p>3008 rows × 8 columns</p>\n</div>"
     },
     "execution_count": 2,
     "metadata": {},
     "output_type": "execute_result"
    }
   ],
   "source": [
    "pd.read_csv('./Database/article_info.csv')"
   ],
   "metadata": {
    "collapsed": false,
    "ExecuteTime": {
     "end_time": "2025-01-23T09:09:46.120423Z",
     "start_time": "2025-01-23T09:09:45.908199900Z"
    }
   },
   "id": "2a19733dad2577bb",
   "execution_count": 2
  },
  {
   "cell_type": "code",
   "outputs": [
    {
     "data": {
      "text/plain": "          userID     articleID userRegion userCountry\n0      USER_0000  ARTICLE_0661         NY          US\n1      USER_0000  ARTICLE_2316         NY          US\n2      USER_0000  ARTICLE_1345         NY          US\n3      USER_0000  ARTICLE_1089         NY          US\n4      USER_0000  ARTICLE_1484         NY          US\n...          ...           ...        ...         ...\n42712  USER_1420  ARTICLE_0682         SP          BR\n42713  USER_1420  ARTICLE_2179         SP          BR\n42714  USER_1420  ARTICLE_1848         SP          BR\n42715  USER_1420  ARTICLE_0030         SP          BR\n42716  USER_1420  ARTICLE_2423         SP          BR\n\n[42717 rows x 4 columns]",
      "text/html": "<div>\n<style scoped>\n    .dataframe tbody tr th:only-of-type {\n        vertical-align: middle;\n    }\n\n    .dataframe tbody tr th {\n        vertical-align: top;\n    }\n\n    .dataframe thead th {\n        text-align: right;\n    }\n</style>\n<table border=\"1\" class=\"dataframe\">\n  <thead>\n    <tr style=\"text-align: right;\">\n      <th></th>\n      <th>userID</th>\n      <th>articleID</th>\n      <th>userRegion</th>\n      <th>userCountry</th>\n    </tr>\n  </thead>\n  <tbody>\n    <tr>\n      <th>0</th>\n      <td>USER_0000</td>\n      <td>ARTICLE_0661</td>\n      <td>NY</td>\n      <td>US</td>\n    </tr>\n    <tr>\n      <th>1</th>\n      <td>USER_0000</td>\n      <td>ARTICLE_2316</td>\n      <td>NY</td>\n      <td>US</td>\n    </tr>\n    <tr>\n      <th>2</th>\n      <td>USER_0000</td>\n      <td>ARTICLE_1345</td>\n      <td>NY</td>\n      <td>US</td>\n    </tr>\n    <tr>\n      <th>3</th>\n      <td>USER_0000</td>\n      <td>ARTICLE_1089</td>\n      <td>NY</td>\n      <td>US</td>\n    </tr>\n    <tr>\n      <th>4</th>\n      <td>USER_0000</td>\n      <td>ARTICLE_1484</td>\n      <td>NY</td>\n      <td>US</td>\n    </tr>\n    <tr>\n      <th>...</th>\n      <td>...</td>\n      <td>...</td>\n      <td>...</td>\n      <td>...</td>\n    </tr>\n    <tr>\n      <th>42712</th>\n      <td>USER_1420</td>\n      <td>ARTICLE_0682</td>\n      <td>SP</td>\n      <td>BR</td>\n    </tr>\n    <tr>\n      <th>42713</th>\n      <td>USER_1420</td>\n      <td>ARTICLE_2179</td>\n      <td>SP</td>\n      <td>BR</td>\n    </tr>\n    <tr>\n      <th>42714</th>\n      <td>USER_1420</td>\n      <td>ARTICLE_1848</td>\n      <td>SP</td>\n      <td>BR</td>\n    </tr>\n    <tr>\n      <th>42715</th>\n      <td>USER_1420</td>\n      <td>ARTICLE_0030</td>\n      <td>SP</td>\n      <td>BR</td>\n    </tr>\n    <tr>\n      <th>42716</th>\n      <td>USER_1420</td>\n      <td>ARTICLE_2423</td>\n      <td>SP</td>\n      <td>BR</td>\n    </tr>\n  </tbody>\n</table>\n<p>42717 rows × 4 columns</p>\n</div>"
     },
     "execution_count": 3,
     "metadata": {},
     "output_type": "execute_result"
    }
   ],
   "source": [
    "pd.read_csv('./Database/view_log.csv')"
   ],
   "metadata": {
    "collapsed": false,
    "ExecuteTime": {
     "end_time": "2025-01-23T09:09:47.010509900Z",
     "start_time": "2025-01-23T09:09:46.960001800Z"
    }
   },
   "id": "ba33cbc8cc827ab7",
   "execution_count": 3
  },
  {
   "cell_type": "code",
   "outputs": [
    {
     "data": {
      "text/plain": "         userID     articleID\n0     USER_0000  ARTICLE_0000\n1     USER_0000  ARTICLE_0001\n2     USER_0000  ARTICLE_0002\n3     USER_0000  ARTICLE_0003\n4     USER_0000  ARTICLE_0004\n...         ...           ...\n7070  USER_1420  ARTICLE_0000\n7071  USER_1420  ARTICLE_0001\n7072  USER_1420  ARTICLE_0002\n7073  USER_1420  ARTICLE_0003\n7074  USER_1420  ARTICLE_0004\n\n[7075 rows x 2 columns]",
      "text/html": "<div>\n<style scoped>\n    .dataframe tbody tr th:only-of-type {\n        vertical-align: middle;\n    }\n\n    .dataframe tbody tr th {\n        vertical-align: top;\n    }\n\n    .dataframe thead th {\n        text-align: right;\n    }\n</style>\n<table border=\"1\" class=\"dataframe\">\n  <thead>\n    <tr style=\"text-align: right;\">\n      <th></th>\n      <th>userID</th>\n      <th>articleID</th>\n    </tr>\n  </thead>\n  <tbody>\n    <tr>\n      <th>0</th>\n      <td>USER_0000</td>\n      <td>ARTICLE_0000</td>\n    </tr>\n    <tr>\n      <th>1</th>\n      <td>USER_0000</td>\n      <td>ARTICLE_0001</td>\n    </tr>\n    <tr>\n      <th>2</th>\n      <td>USER_0000</td>\n      <td>ARTICLE_0002</td>\n    </tr>\n    <tr>\n      <th>3</th>\n      <td>USER_0000</td>\n      <td>ARTICLE_0003</td>\n    </tr>\n    <tr>\n      <th>4</th>\n      <td>USER_0000</td>\n      <td>ARTICLE_0004</td>\n    </tr>\n    <tr>\n      <th>...</th>\n      <td>...</td>\n      <td>...</td>\n    </tr>\n    <tr>\n      <th>7070</th>\n      <td>USER_1420</td>\n      <td>ARTICLE_0000</td>\n    </tr>\n    <tr>\n      <th>7071</th>\n      <td>USER_1420</td>\n      <td>ARTICLE_0001</td>\n    </tr>\n    <tr>\n      <th>7072</th>\n      <td>USER_1420</td>\n      <td>ARTICLE_0002</td>\n    </tr>\n    <tr>\n      <th>7073</th>\n      <td>USER_1420</td>\n      <td>ARTICLE_0003</td>\n    </tr>\n    <tr>\n      <th>7074</th>\n      <td>USER_1420</td>\n      <td>ARTICLE_0004</td>\n    </tr>\n  </tbody>\n</table>\n<p>7075 rows × 2 columns</p>\n</div>"
     },
     "execution_count": 4,
     "metadata": {},
     "output_type": "execute_result"
    }
   ],
   "source": [
    "pd.read_csv('./Database/sample_submission.csv')"
   ],
   "metadata": {
    "collapsed": false,
    "ExecuteTime": {
     "end_time": "2025-01-23T09:09:48.133844Z",
     "start_time": "2025-01-23T09:09:48.122509700Z"
    }
   },
   "id": "80b698a2959ed144",
   "execution_count": 4
  },
  {
   "cell_type": "code",
   "outputs": [],
   "source": [
    "data = pd.read_csv('./Database/ncf_data.csv').fillna(0)\n",
    "train, test = train_test_split(data, test_size=0.15, random_state=42)\n",
    "train.reset_index(inplace=True, drop=True)\n",
    "test.reset_index(inplace=True, drop=True)\n",
    "df_0 = train.copy()"
   ],
   "metadata": {
    "collapsed": false,
    "ExecuteTime": {
     "end_time": "2025-01-23T09:09:50.037400400Z",
     "start_time": "2025-01-23T09:09:50.005302Z"
    }
   },
   "id": "5ff60ad3a74cb08",
   "execution_count": 5
  },
  {
   "cell_type": "code",
   "outputs": [],
   "source": [
    "encoder_dict = {}\n",
    "\n",
    "for col in ['p_id', 'u_id']:\n",
    "    encoder_dict[col] = LabelEncoder()\n",
    "    df_0[col] = encoder_dict[col].fit_transform(df_0[col])"
   ],
   "metadata": {
    "collapsed": false,
    "ExecuteTime": {
     "end_time": "2025-01-23T09:09:50.765266100Z",
     "start_time": "2025-01-23T09:09:50.705423900Z"
    }
   },
   "id": "b7eb249eba34c2d9",
   "execution_count": 6
  },
  {
   "cell_type": "code",
   "outputs": [],
   "source": [
    "df_0 = df_0.groupby(['u_id', 'p_id'], as_index=False).mean()\n",
    "df_1 = df_0[df_0['u_id'].isin(df_0['u_id'].value_counts()[df_0['u_id'].value_counts() > 1].index)]"
   ],
   "metadata": {
    "collapsed": false,
    "ExecuteTime": {
     "end_time": "2025-01-23T09:09:51.349393200Z",
     "start_time": "2025-01-23T09:09:51.326336100Z"
    }
   },
   "id": "74d84d3c7eac344a",
   "execution_count": 7
  },
  {
   "cell_type": "code",
   "outputs": [],
   "source": [
    "x = df_1.copy()\n",
    "y = df_1['u_id']\n",
    "\n",
    "x_train, x_test, y_train, y_test = train_test_split(x, y, test_size=0.3, stratify=y)\n",
    "\n",
    "ratings_matrix = x_train.pivot(index='u_id', columns='p_id', values='u_rate')"
   ],
   "metadata": {
    "collapsed": false,
    "ExecuteTime": {
     "end_time": "2025-01-23T09:10:08.142553Z",
     "start_time": "2025-01-23T09:10:08.054696600Z"
    }
   },
   "id": "e434df800181088",
   "execution_count": 8
  },
  {
   "cell_type": "code",
   "outputs": [],
   "source": [
    "matrix_dummy = ratings_matrix.copy().fillna(0)\n",
    "user_similarity = cosine_similarity(matrix_dummy, matrix_dummy)\n",
    "user_similarity = pd.DataFrame(user_similarity,\n",
    "                               index=ratings_matrix.index,\n",
    "                               columns=ratings_matrix.index)"
   ],
   "metadata": {
    "collapsed": false,
    "ExecuteTime": {
     "end_time": "2025-01-23T09:10:12.437106500Z",
     "start_time": "2025-01-23T09:10:11.935500200Z"
    }
   },
   "id": "570e488b29dc3609",
   "execution_count": 9
  },
  {
   "cell_type": "code",
   "outputs": [],
   "source": [
    "def RMSE(y_true, y_pred):\n",
    "    return np.sqrt(np.mean((np.array(y_true) - np.array(y_pred)) ** 2))\n",
    "\n",
    "\n",
    "def CF_simple(user_id, movie_id, ratings_matrix, user_similarity):\n",
    "    if movie_id in ratings_matrix.columns:\n",
    "        sim_scores = user_similarity[user_id].copy()\n",
    "        movie_ratings = ratings_matrix[movie_id].copy()\n",
    "        none_rating_idx = movie_ratings[movie_ratings.isnull()].index\n",
    "        movie_ratings = movie_ratings.dropna()\n",
    "        sim_scores = sim_scores.drop(none_rating_idx)\n",
    "        if sim_scores.sum() != 0:\n",
    "            mean_rating = np.dot(sim_scores, movie_ratings) / sim_scores.sum()\n",
    "        else:\n",
    "            mean_rating = 3.0  # 기본값\n",
    "    else:\n",
    "        mean_rating = 3.0\n",
    "\n",
    "    return mean_rating"
   ],
   "metadata": {
    "collapsed": false,
    "ExecuteTime": {
     "end_time": "2025-01-23T09:10:22.622508Z",
     "start_time": "2025-01-23T09:10:22.612002800Z"
    }
   },
   "id": "e2699ad479b234e9",
   "execution_count": 10
  },
  {
   "cell_type": "code",
   "outputs": [
    {
     "data": {
      "text/plain": "np.float64(0.9599500503821221)"
     },
     "execution_count": 11,
     "metadata": {},
     "output_type": "execute_result"
    }
   ],
   "source": [
    "# 테스트 데이터의 user_id와 movie_id 간 pair를 맞춰 튜플형원소 리스트데이터를 만듬\n",
    "id_pairs = zip(x_test['u_id'], x_test['p_id'])\n",
    "# 모든 사용자-영화 짝에 대해서 주어진 예측모델에 의해 예측값 계산 및 리스트형 데이터 생성\n",
    "y_pred = np.array([CF_simple(user, movie, ratings_matrix, user_similarity) for (user, movie) in id_pairs])\n",
    "# 실제 평점값\n",
    "y_true = np.array(x_test['u_rate'])\n",
    "\n",
    "RMSE(y_true, y_pred)"
   ],
   "metadata": {
    "collapsed": false,
    "ExecuteTime": {
     "end_time": "2025-01-23T09:10:34.623378Z",
     "start_time": "2025-01-23T09:10:29.934689700Z"
    }
   },
   "id": "fb9507be43a46cce",
   "execution_count": 11
  }
 ],
 "metadata": {
  "kernelspec": {
   "display_name": "Python 3",
   "language": "python",
   "name": "python3"
  },
  "language_info": {
   "codemirror_mode": {
    "name": "ipython",
    "version": 2
   },
   "file_extension": ".py",
   "mimetype": "text/x-python",
   "name": "python",
   "nbconvert_exporter": "python",
   "pygments_lexer": "ipython2",
   "version": "2.7.6"
  }
 },
 "nbformat": 4,
 "nbformat_minor": 5
}

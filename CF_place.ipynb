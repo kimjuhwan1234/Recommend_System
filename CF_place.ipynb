{
 "cells": [
  {
   "cell_type": "code",
   "execution_count": 1,
   "id": "initial_id",
   "metadata": {
    "collapsed": true,
    "ExecuteTime": {
     "end_time": "2025-01-31T15:46:49.845981700Z",
     "start_time": "2025-01-31T15:46:48.316962500Z"
    }
   },
   "outputs": [],
   "source": [
    "import numpy as np\n",
    "import pandas as pd\n",
    "from joblib import Parallel, delayed\n",
    "from sklearn.preprocessing import LabelEncoder\n",
    "from sklearn.model_selection import train_test_split\n",
    "from sklearn.metrics.pairwise import cosine_similarity"
   ]
  },
  {
   "cell_type": "code",
   "outputs": [],
   "source": [
    "def RMSE(y_true, y_pred):\n",
    "    return np.sqrt(np.mean((np.array(y_true) - np.array(y_pred)) ** 2))\n",
    "\n",
    "\n",
    "def CF_simple(user_id, item_id, ratings_matrix, user_similarity):\n",
    "    if item_id in ratings_matrix.columns:\n",
    "        sim_scores = user_similarity[user_id].copy()\n",
    "        ratings = ratings_matrix[item_id].copy()\n",
    "        none_rating_idx = ratings[ratings.isnull()].index\n",
    "        ratings = ratings.dropna()\n",
    "        sim_scores = sim_scores.drop(none_rating_idx)\n",
    "        if sim_scores.sum() != 0:\n",
    "            mean_rating = np.dot(sim_scores, ratings) / sim_scores.sum()\n",
    "        else:\n",
    "            mean_rating = pd.Series(np.unique(ratings_matrix)).dropna().median()\n",
    "    else:\n",
    "        mean_rating = pd.Series(np.unique(ratings_matrix)).dropna().median()\n",
    "\n",
    "    return mean_rating"
   ],
   "metadata": {
    "collapsed": false,
    "ExecuteTime": {
     "end_time": "2025-01-31T15:46:49.855248600Z",
     "start_time": "2025-01-31T15:46:49.848485100Z"
    }
   },
   "id": "d80129e0fccb6576",
   "execution_count": 2
  },
  {
   "cell_type": "code",
   "outputs": [],
   "source": [
    "data = pd.read_csv('./Database/ncf_data.csv').fillna(0)\n",
    "train, test = train_test_split(data, test_size=0.15, random_state=42)\n",
    "train.reset_index(inplace=True, drop=True)\n",
    "test.reset_index(inplace=True, drop=True)\n",
    "df_0 = train.copy()"
   ],
   "metadata": {
    "collapsed": false,
    "ExecuteTime": {
     "end_time": "2025-01-31T15:46:49.895894Z",
     "start_time": "2025-01-31T15:46:49.853247800Z"
    }
   },
   "id": "5ff60ad3a74cb08",
   "execution_count": 3
  },
  {
   "cell_type": "code",
   "outputs": [],
   "source": [
    "encoder_dict = {}\n",
    "\n",
    "for col in ['p_id', 'u_id']:\n",
    "    encoder_dict[col] = LabelEncoder()\n",
    "    df_0[col] = encoder_dict[col].fit_transform(df_0[col])"
   ],
   "metadata": {
    "collapsed": false,
    "ExecuteTime": {
     "end_time": "2025-01-31T15:46:49.948617800Z",
     "start_time": "2025-01-31T15:46:49.891893Z"
    }
   },
   "id": "b7eb249eba34c2d9",
   "execution_count": 4
  },
  {
   "cell_type": "code",
   "outputs": [],
   "source": [
    "df_0 = df_0.groupby(['u_id', 'p_id'], as_index=False).mean()\n",
    "df_1 = df_0[df_0['u_id'].isin(df_0['u_id'].value_counts()[df_0['u_id'].value_counts() > 1].index)]"
   ],
   "metadata": {
    "collapsed": false,
    "ExecuteTime": {
     "end_time": "2025-01-31T15:46:49.969174700Z",
     "start_time": "2025-01-31T15:46:49.952122800Z"
    }
   },
   "id": "74d84d3c7eac344a",
   "execution_count": 5
  },
  {
   "cell_type": "code",
   "outputs": [],
   "source": [
    "x = df_1.copy()\n",
    "y = df_1['u_id']\n",
    "\n",
    "x_train, x_test, y_train, y_test = train_test_split(x, y, test_size=0.3, stratify=y)\n",
    "\n",
    "ratings_matrix = x_train.pivot(index='u_id', columns='p_id', values='u_rate')\n",
    "matrix_dummy = ratings_matrix.copy().fillna(0)\n",
    "user_similarity = cosine_similarity(matrix_dummy, matrix_dummy)\n",
    "user_similarity = pd.DataFrame(user_similarity,\n",
    "                               index=ratings_matrix.index,\n",
    "                               columns=ratings_matrix.index)"
   ],
   "metadata": {
    "collapsed": false,
    "ExecuteTime": {
     "end_time": "2025-01-31T15:46:50.416924500Z",
     "start_time": "2025-01-31T15:46:49.969174700Z"
    }
   },
   "id": "e434df800181088",
   "execution_count": 6
  },
  {
   "cell_type": "code",
   "outputs": [],
   "source": [
    "# 예측값 계산 (병렬 처리 적용)\n",
    "id_pairs = list(zip(x_test['u_id'], x_test['p_id']))\n",
    "y_pred = np.array(Parallel(n_jobs=-1)(\n",
    "    delayed(CF_simple)(user, movie, ratings_matrix, user_similarity) for (user, movie) in id_pairs\n",
    "))\n",
    "\n",
    "# 실제 평점값\n",
    "y_true = np.array(x_test['u_rate'])"
   ],
   "metadata": {
    "collapsed": false,
    "ExecuteTime": {
     "end_time": "2025-01-31T15:47:04.259841Z",
     "start_time": "2025-01-31T15:46:50.416924500Z"
    }
   },
   "id": "15249f729aff8afd",
   "execution_count": 7
  },
  {
   "cell_type": "code",
   "outputs": [
    {
     "name": "stdout",
     "output_type": "stream",
     "text": [
      "RMSE: 0.9507\n"
     ]
    }
   ],
   "source": [
    "print(f\"RMSE: {RMSE(y_true, y_pred):.4f}\")"
   ],
   "metadata": {
    "collapsed": false,
    "ExecuteTime": {
     "end_time": "2025-01-31T15:47:04.266300100Z",
     "start_time": "2025-01-31T15:47:04.260842300Z"
    }
   },
   "id": "3b44ac66af865cf9",
   "execution_count": 8
  }
 ],
 "metadata": {
  "kernelspec": {
   "display_name": "Python 3",
   "language": "python",
   "name": "python3"
  },
  "language_info": {
   "codemirror_mode": {
    "name": "ipython",
    "version": 2
   },
   "file_extension": ".py",
   "mimetype": "text/x-python",
   "name": "python",
   "nbconvert_exporter": "python",
   "pygments_lexer": "ipython2",
   "version": "2.7.6"
  }
 },
 "nbformat": 4,
 "nbformat_minor": 5
}

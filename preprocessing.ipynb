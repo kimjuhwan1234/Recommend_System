{
 "cells": [
  {
   "cell_type": "code",
   "execution_count": 1,
   "id": "initial_id",
   "metadata": {
    "collapsed": true,
    "ExecuteTime": {
     "end_time": "2025-02-19T12:40:52.703837900Z",
     "start_time": "2025-02-19T12:40:52.103362200Z"
    }
   },
   "outputs": [],
   "source": [
    "import pickle\n",
    "import numpy as np\n",
    "import pandas as pd"
   ]
  },
  {
   "cell_type": "code",
   "outputs": [],
   "source": [
    "data = pd.read_pickle('Database/attributes/train_val_test_for_moiverating.pkl')\n",
    "CF_df = pd.read_csv('Database/attributes/expanded_recommendations.csv')"
   ],
   "metadata": {
    "collapsed": false,
    "ExecuteTime": {
     "end_time": "2025-02-19T12:40:59.112367200Z",
     "start_time": "2025-02-19T12:40:53.346633800Z"
    }
   },
   "id": "a1b30a5220861e66",
   "execution_count": 2
  },
  {
   "cell_type": "code",
   "outputs": [],
   "source": [
    "train = pd.concat([data['x_train'], data['y_train']], axis=1)\n",
    "valid = pd.concat([data['x_val'], data['y_val']], axis=1)\n",
    "test = pd.concat([data['x_test'], data['y_test']], axis=1)"
   ],
   "metadata": {
    "collapsed": false,
    "ExecuteTime": {
     "end_time": "2025-02-19T12:40:59.656753300Z",
     "start_time": "2025-02-19T12:40:59.114366700Z"
    }
   },
   "id": "916269b5be88d23f",
   "execution_count": 3
  },
  {
   "cell_type": "code",
   "outputs": [],
   "source": [
    "set_df1 = CF_df[['id', 'item']]\n",
    "set_df2 = CF_df[['id', 'recommended_item']]\n",
    "set_df1 = set_df1.drop_duplicates()\n",
    "set_df1.columns = ['userId', 'movieId']\n",
    "set_df2 = set_df2.drop_duplicates()\n",
    "set_df2.columns = ['userId', 'movieId']"
   ],
   "metadata": {
    "collapsed": false,
    "ExecuteTime": {
     "end_time": "2025-02-19T12:40:59.727727700Z",
     "start_time": "2025-02-19T12:40:59.656753300Z"
    }
   },
   "id": "45afb6594b7b582c",
   "execution_count": 4
  },
  {
   "cell_type": "code",
   "outputs": [],
   "source": [
    "total_df = pd.concat([set_df1, set_df2], axis=0)\n",
    "total_df = total_df.drop_duplicates().reset_index(drop=True)"
   ],
   "metadata": {
    "collapsed": false,
    "ExecuteTime": {
     "end_time": "2025-02-19T12:40:59.764639200Z",
     "start_time": "2025-02-19T12:40:59.730729300Z"
    }
   },
   "id": "9aa97fde6216a707",
   "execution_count": 5
  },
  {
   "cell_type": "code",
   "outputs": [],
   "source": [
    "mask1 = train.set_index(['userId', 'movieId']).index.isin(total_df.set_index(['userId', 'movieId']).index)\n",
    "mask2 = valid.set_index(['userId', 'movieId']).index.isin(total_df.set_index(['userId', 'movieId']).index)\n",
    "mask3 = test.set_index(['userId', 'movieId']).index.isin(total_df.set_index(['userId', 'movieId']).index)\n",
    "real_test = pd.concat([train[mask1], valid[mask2], test[mask3]], axis=0)\n",
    "real_test = real_test.reset_index(drop=True)"
   ],
   "metadata": {
    "collapsed": false,
    "ExecuteTime": {
     "end_time": "2025-02-19T12:41:05.087575400Z",
     "start_time": "2025-02-19T12:40:59.763610700Z"
    }
   },
   "id": "7c65a069fc648f61",
   "execution_count": 6
  },
  {
   "cell_type": "code",
   "outputs": [],
   "source": [
    "real_train = pd.DataFrame()\n",
    "train_dict = {}\n",
    "for i in np.arange(0.5, 5.5, 0.5):\n",
    "    train_dict[i] = train[~mask1 & (train['rating'] == i)].sample(n=300000, random_state=42)\n",
    "    real_train = pd.concat([real_train, train_dict[i]], axis=0)\n",
    "real_train = real_train.reset_index(drop=True)"
   ],
   "metadata": {
    "collapsed": false,
    "ExecuteTime": {
     "end_time": "2025-02-19T12:41:08.401696500Z",
     "start_time": "2025-02-19T12:41:05.088575700Z"
    }
   },
   "id": "75ebcbd3513bff1d",
   "execution_count": 7
  },
  {
   "cell_type": "code",
   "outputs": [],
   "source": [
    "# real_test['rating'] = real_test['rating'].apply(lambda x: int(x * 2) - 1)\n",
    "# real_train['rating'] = real_train['rating'].apply(lambda x: int(x * 2) - 1)"
   ],
   "metadata": {
    "collapsed": false,
    "ExecuteTime": {
     "end_time": "2025-02-19T12:41:08.411588500Z",
     "start_time": "2025-02-19T12:41:08.403080600Z"
    }
   },
   "id": "2d2e129a681342d3",
   "execution_count": 8
  },
  {
   "cell_type": "code",
   "outputs": [],
   "source": [
    "from sklearn.model_selection import train_test_split\n",
    "\n",
    "x = real_train.drop(columns='rating')\n",
    "y = real_train['rating']\n",
    "x_train, x_val, y_train, y_val = train_test_split(x, y, test_size=0.1, random_state=42)\n",
    "\n",
    "x_test = real_test.drop(columns='rating')\n",
    "y_test = real_test['rating']"
   ],
   "metadata": {
    "collapsed": false,
    "ExecuteTime": {
     "end_time": "2025-02-19T12:41:10.423686400Z",
     "start_time": "2025-02-19T12:41:08.409587900Z"
    }
   },
   "id": "44a0bedcc5f38dee",
   "execution_count": 9
  },
  {
   "cell_type": "code",
   "outputs": [],
   "source": [
    "# 데이터 저장 경로\n",
    "train_val_test_split = {\n",
    "    \"x_train\": x_train,\n",
    "    \"y_train\": y_train,\n",
    "    \"x_val\": x_val,\n",
    "    \"y_val\": y_val,\n",
    "    \"x_test\": x_test,\n",
    "    \"y_test\": y_test\n",
    "}\n",
    "\n",
    "# pickle 파일로 저장\n",
    "file_path = \"Database/train_val_test2.pkl\"\n",
    "with open(file_path, \"wb\") as f:\n",
    "    pickle.dump(train_val_test_split, f)"
   ],
   "metadata": {
    "collapsed": false,
    "ExecuteTime": {
     "end_time": "2025-02-19T11:13:35.350601600Z",
     "start_time": "2025-02-19T11:13:34.769026700Z"
    }
   },
   "id": "17a648d1f8b5773",
   "execution_count": 10
  },
  {
   "cell_type": "code",
   "outputs": [
    {
     "data": {
      "text/plain": "['userId',\n 'movieId',\n 'genres',\n 'release_date',\n 'popularity',\n 'runtime',\n 'revenue',\n 'rating']"
     },
     "execution_count": 11,
     "metadata": {},
     "output_type": "execute_result"
    }
   ],
   "source": [
    "list(real_train.columns)"
   ],
   "metadata": {
    "collapsed": false,
    "ExecuteTime": {
     "end_time": "2025-02-19T11:13:36.446341700Z",
     "start_time": "2025-02-19T11:13:36.437593800Z"
    }
   },
   "id": "793bfa50ba2e182a",
   "execution_count": 11
  },
  {
   "cell_type": "code",
   "outputs": [
    {
     "data": {
      "text/plain": "[229812, 29238, 20, 13077, 28922, 322, 6563, 10]"
     },
     "execution_count": 12,
     "metadata": {},
     "output_type": "execute_result"
    }
   ],
   "source": [
    "list(real_train.nunique().values)"
   ],
   "metadata": {
    "collapsed": false,
    "ExecuteTime": {
     "end_time": "2025-02-19T11:13:37.051113200Z",
     "start_time": "2025-02-19T11:13:36.777363300Z"
    }
   },
   "id": "6b7c7badf294f207",
   "execution_count": 12
  }
 ],
 "metadata": {
  "kernelspec": {
   "display_name": "Python 3",
   "language": "python",
   "name": "python3"
  },
  "language_info": {
   "codemirror_mode": {
    "name": "ipython",
    "version": 2
   },
   "file_extension": ".py",
   "mimetype": "text/x-python",
   "name": "python",
   "nbconvert_exporter": "python",
   "pygments_lexer": "ipython2",
   "version": "2.7.6"
  }
 },
 "nbformat": 4,
 "nbformat_minor": 5
}

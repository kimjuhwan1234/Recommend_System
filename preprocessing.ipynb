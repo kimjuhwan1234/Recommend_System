{
 "cells": [
  {
   "cell_type": "code",
   "execution_count": 26,
   "id": "initial_id",
   "metadata": {
    "collapsed": true,
    "ExecuteTime": {
     "end_time": "2025-02-19T07:19:10.301833700Z",
     "start_time": "2025-02-19T07:19:10.285917400Z"
    }
   },
   "outputs": [],
   "source": [
    "import pickle\n",
    "import numpy as np\n",
    "import pandas as pd"
   ]
  },
  {
   "cell_type": "code",
   "outputs": [],
   "source": [
    "data = pd.read_pickle('Database/train_val_test_for_moiverating.pkl')\n",
    "CF_df = pd.read_csv('Database/expanded_recommendations.csv')"
   ],
   "metadata": {
    "collapsed": false,
    "ExecuteTime": {
     "end_time": "2025-02-19T07:19:15.920710900Z",
     "start_time": "2025-02-19T07:19:10.305976300Z"
    }
   },
   "id": "a1b30a5220861e66",
   "execution_count": 27
  },
  {
   "cell_type": "code",
   "outputs": [],
   "source": [
    "train = pd.concat([data['x_train'], data['y_train']], axis=1)\n",
    "valid = pd.concat([data['x_val'], data['y_val']], axis=1)\n",
    "test = pd.concat([data['x_test'], data['y_test']], axis=1)"
   ],
   "metadata": {
    "collapsed": false,
    "ExecuteTime": {
     "end_time": "2025-02-19T07:19:16.565346900Z",
     "start_time": "2025-02-19T07:19:15.924016500Z"
    }
   },
   "id": "916269b5be88d23f",
   "execution_count": 28
  },
  {
   "cell_type": "code",
   "outputs": [],
   "source": [
    "set_df1 = CF_df[['id', 'item']]\n",
    "set_df2 = CF_df[['id', 'recommended_item']]\n",
    "set_df1 = set_df1.drop_duplicates()\n",
    "set_df1.columns = ['userId', 'movieId']\n",
    "set_df2 = set_df2.drop_duplicates()\n",
    "set_df2.columns = ['userId', 'movieId']"
   ],
   "metadata": {
    "collapsed": false,
    "ExecuteTime": {
     "end_time": "2025-02-19T07:19:16.621804600Z",
     "start_time": "2025-02-19T07:19:16.565346900Z"
    }
   },
   "id": "45afb6594b7b582c",
   "execution_count": 29
  },
  {
   "cell_type": "code",
   "outputs": [],
   "source": [
    "total_df = pd.concat([set_df1, set_df2], axis=0)\n",
    "total_df = total_df.drop_duplicates().reset_index(drop=True)"
   ],
   "metadata": {
    "collapsed": false,
    "ExecuteTime": {
     "end_time": "2025-02-19T07:19:16.659068800Z",
     "start_time": "2025-02-19T07:19:16.623136800Z"
    }
   },
   "id": "9aa97fde6216a707",
   "execution_count": 30
  },
  {
   "cell_type": "code",
   "outputs": [],
   "source": [
    "mask1 = train.set_index(['userId', 'movieId']).index.isin(total_df.set_index(['userId', 'movieId']).index)\n",
    "mask2 = valid.set_index(['userId', 'movieId']).index.isin(total_df.set_index(['userId', 'movieId']).index)\n",
    "mask3 = test.set_index(['userId', 'movieId']).index.isin(total_df.set_index(['userId', 'movieId']).index)\n",
    "real_test = pd.concat([train[mask1], valid[mask2], test[mask3]], axis=0)\n",
    "real_test = real_test.reset_index(drop=True)"
   ],
   "metadata": {
    "collapsed": false,
    "ExecuteTime": {
     "end_time": "2025-02-19T07:19:21.554298400Z",
     "start_time": "2025-02-19T07:19:16.659068800Z"
    }
   },
   "id": "7c65a069fc648f61",
   "execution_count": 31
  },
  {
   "cell_type": "code",
   "outputs": [],
   "source": [
    "real_train = pd.DataFrame()\n",
    "train_dict = {}\n",
    "for i in np.arange(0.5, 5.5, 0.5):\n",
    "    train_dict[i] = train[~mask1 & (train['rating'] == i)].sample(n=300000, random_state=42)\n",
    "    real_train = pd.concat([real_train, train_dict[i]], axis=0)\n",
    "real_train = real_train.reset_index(drop=True)"
   ],
   "metadata": {
    "collapsed": false,
    "ExecuteTime": {
     "end_time": "2025-02-19T07:19:24.656007600Z",
     "start_time": "2025-02-19T07:19:21.554298400Z"
    }
   },
   "id": "75ebcbd3513bff1d",
   "execution_count": 32
  },
  {
   "cell_type": "code",
   "outputs": [],
   "source": [
    "real_test['rating'] = real_test['rating'].apply(lambda x: int(x * 2) - 1)\n",
    "real_train['rating'] = real_train['rating'].apply(lambda x: int(x * 2) - 1)"
   ],
   "metadata": {
    "collapsed": false,
    "ExecuteTime": {
     "end_time": "2025-02-19T07:19:26.335524900Z",
     "start_time": "2025-02-19T07:19:24.656007600Z"
    }
   },
   "id": "2d2e129a681342d3",
   "execution_count": 33
  },
  {
   "cell_type": "code",
   "outputs": [],
   "source": [
    "from sklearn.model_selection import train_test_split\n",
    "\n",
    "x = real_train.drop(columns='rating')\n",
    "y = real_train['rating']\n",
    "x_train, x_val, y_train, y_val = train_test_split(x, y, test_size=0.1, random_state=42)\n",
    "\n",
    "x_test = real_test.drop(columns='rating')\n",
    "y_test = real_test['rating']"
   ],
   "metadata": {
    "collapsed": false,
    "ExecuteTime": {
     "end_time": "2025-02-19T07:19:26.800493400Z",
     "start_time": "2025-02-19T07:19:26.338682500Z"
    }
   },
   "id": "44a0bedcc5f38dee",
   "execution_count": 34
  },
  {
   "cell_type": "code",
   "outputs": [],
   "source": [
    "# 데이터 저장 경로\n",
    "train_val_test_split = {\n",
    "    \"x_train\": x_train,\n",
    "    \"y_train\": y_train,\n",
    "    \"x_val\": x_val,\n",
    "    \"y_val\": y_val,\n",
    "    \"x_test\": x_test,\n",
    "    \"y_test\": y_test\n",
    "}\n",
    "\n",
    "# pickle 파일로 저장\n",
    "file_path = \"Database/train_val_test2.pkl\"\n",
    "with open(file_path, \"wb\") as f:\n",
    "    pickle.dump(train_val_test_split, f)"
   ],
   "metadata": {
    "collapsed": false,
    "ExecuteTime": {
     "end_time": "2025-02-19T07:19:27.397055800Z",
     "start_time": "2025-02-19T07:19:26.800493400Z"
    }
   },
   "id": "17a648d1f8b5773",
   "execution_count": 35
  },
  {
   "cell_type": "code",
   "outputs": [
    {
     "data": {
      "text/plain": "['userId',\n 'movieId',\n 'genres',\n 'release_date',\n 'popularity',\n 'runtime',\n 'revenue',\n 'rating']"
     },
     "execution_count": 36,
     "metadata": {},
     "output_type": "execute_result"
    }
   ],
   "source": [
    "list(real_train.columns)"
   ],
   "metadata": {
    "collapsed": false,
    "ExecuteTime": {
     "end_time": "2025-02-19T07:19:27.413630100Z",
     "start_time": "2025-02-19T07:19:27.395772800Z"
    }
   },
   "id": "793bfa50ba2e182a",
   "execution_count": 36
  },
  {
   "cell_type": "code",
   "outputs": [
    {
     "data": {
      "text/plain": "[229812, 29238, 20, 13077, 28922, 322, 6563, 10]"
     },
     "execution_count": 37,
     "metadata": {},
     "output_type": "execute_result"
    }
   ],
   "source": [
    "list(real_train.nunique().values)"
   ],
   "metadata": {
    "collapsed": false,
    "ExecuteTime": {
     "end_time": "2025-02-19T07:19:27.696199800Z",
     "start_time": "2025-02-19T07:19:27.403001400Z"
    }
   },
   "id": "6b7c7badf294f207",
   "execution_count": 37
  }
 ],
 "metadata": {
  "kernelspec": {
   "display_name": "Python 3",
   "language": "python",
   "name": "python3"
  },
  "language_info": {
   "codemirror_mode": {
    "name": "ipython",
    "version": 2
   },
   "file_extension": ".py",
   "mimetype": "text/x-python",
   "name": "python",
   "nbconvert_exporter": "python",
   "pygments_lexer": "ipython2",
   "version": "2.7.6"
  }
 },
 "nbformat": 4,
 "nbformat_minor": 5
}

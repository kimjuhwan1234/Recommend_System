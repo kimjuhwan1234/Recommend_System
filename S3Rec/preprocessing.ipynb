{
 "cells": [
  {
   "cell_type": "code",
   "execution_count": 1,
   "metadata": {
    "ExecuteTime": {
     "end_time": "2025-02-16T10:17:23.331580Z",
     "start_time": "2025-02-16T10:17:21.760457Z"
    }
   },
   "outputs": [],
   "source": [
    "import os\n",
    "import ast\n",
    "import json\n",
    "import pickle\n",
    "import numpy as np\n",
    "import pandas as pd\n",
    "from sklearn.preprocessing import LabelEncoder\n",
    "from sklearn.preprocessing import MinMaxScaler\n",
    "from sklearn.model_selection import train_test_split"
   ]
  },
  {
   "cell_type": "code",
   "outputs": [],
   "source": [
    "def extract_genre(x):\n",
    "    try:\n",
    "        if isinstance(x, str):\n",
    "            x = ast.literal_eval(x)  # 문자열이면 리스트로 변환\n",
    "        if isinstance(x, list) and x:  # 리스트이며 비어 있지 않으면\n",
    "            return x[0]['name']\n",
    "    except (ValueError, SyntaxError, IndexError, TypeError):\n",
    "        return None  # 변환 불가하거나 오류 발생 시 None 반환\n",
    "    return None"
   ],
   "metadata": {
    "collapsed": false,
    "ExecuteTime": {
     "end_time": "2025-02-16T10:17:23.344274800Z",
     "start_time": "2025-02-16T10:17:23.331580Z"
    }
   },
   "execution_count": 2
  },
  {
   "cell_type": "code",
   "outputs": [],
   "source": [
    "users = pd.read_csv('../Database/attributes/ratings.csv')\n",
    "movies = pd.read_csv('../Database/attributes/movies_metadata.csv', low_memory=False)\n",
    "links = pd.read_csv('../Database/attributes/links.csv')"
   ],
   "metadata": {
    "collapsed": false,
    "ExecuteTime": {
     "end_time": "2025-02-16T10:17:30.816525400Z",
     "start_time": "2025-02-16T10:17:23.335646900Z"
    }
   },
   "execution_count": 3
  },
  {
   "cell_type": "code",
   "outputs": [],
   "source": [
    "users = users[['userId', 'movieId', 'rating']].dropna()\n",
    "movies = movies[['imdb_id', 'genres', 'original_title', 'release_date', 'popularity', 'runtime', 'revenue']].dropna()\n",
    "movies['genres'] = movies['genres'].apply(extract_genre)\n",
    "movies = movies.dropna()"
   ],
   "metadata": {
    "collapsed": false,
    "ExecuteTime": {
     "end_time": "2025-02-16T10:17:32.815893500Z",
     "start_time": "2025-02-16T10:17:30.816525400Z"
    }
   },
   "execution_count": 4
  },
  {
   "cell_type": "code",
   "outputs": [],
   "source": [
    "movies['imdb_id'] = movies['imdb_id'].apply(lambda x: x[2:])\n",
    "movies['imdb_id'] = movies['imdb_id'].astype(int)\n",
    "# links 데이터프레임에서 imdbId를 인덱스로 설정 후 movieId를 매핑\n",
    "links_dict = links.set_index(\"imdbId\")[\"movieId\"]\n",
    "# imdb_id를 movieId로 변환 (존재하지 않는 경우 NaN)\n",
    "movies[\"movieId\"] = movies[\"imdb_id\"].map(links_dict)\n",
    "movies = movies.dropna()\n",
    "movies[\"movieId\"] = movies[\"movieId\"].astype(int)\n",
    "movies = movies[['movieId', 'genres', 'original_title', 'release_date', 'popularity', 'runtime', 'revenue']].dropna()"
   ],
   "metadata": {
    "collapsed": false,
    "ExecuteTime": {
     "end_time": "2025-02-16T10:17:32.877300100Z",
     "start_time": "2025-02-16T10:17:32.816920200Z"
    }
   },
   "execution_count": 5
  },
  {
   "cell_type": "code",
   "outputs": [],
   "source": [
    "movies_df_0 = movies.copy()\n",
    "movies_df_0[\"release_date\"] = (pd.to_datetime(\"2021-12-16\") - pd.to_datetime(movies_df_0[\"release_date\"])).dt.days\n",
    "movies_df_1 = movies_df_0.copy()\n",
    "encoder = LabelEncoder()\n",
    "movies_df_1['genres'] = encoder.fit_transform(movies_df_1['genres'])\n",
    "movies_df_2 = movies_df_1.drop(columns=['original_title'])\n",
    "\n",
    "movies_df_3 = movies_df_2.copy()\n",
    "scaler = MinMaxScaler()\n",
    "movies_df_3[['release_date', 'popularity', 'runtime', 'revenue']] = scaler.fit_transform(\n",
    "    movies_df_3[['release_date', 'popularity', 'runtime', 'revenue']].values)\n",
    "movies_df_3 = movies_df_3.set_index('movieId', drop=True)\n",
    "movies_df_3.index = movies_df_3.index.map(lambda x: int(x))"
   ],
   "metadata": {
    "collapsed": false,
    "ExecuteTime": {
     "end_time": "2025-02-16T10:17:33.282366100Z",
     "start_time": "2025-02-16T10:17:33.196956300Z"
    }
   },
   "execution_count": 8
  },
  {
   "cell_type": "code",
   "outputs": [],
   "source": [
    "att_dict = {}\n",
    "for i, row in enumerate(movies_df_3.values):\n",
    "    att_dict[movies_df_3.index[i]] = [row[0], row[1], row[2], row[3], row[4]]\n",
    "\n",
    "att_dict = {int(k): v for k, v in att_dict.items()}"
   ],
   "metadata": {
    "collapsed": false,
    "ExecuteTime": {
     "end_time": "2025-02-16T10:17:33.431229600Z",
     "start_time": "2025-02-16T10:17:33.283407500Z"
    }
   },
   "execution_count": 9
  },
  {
   "cell_type": "code",
   "outputs": [],
   "source": [
    "users_df_0 = users.copy()\n",
    "df_merged = users_df_0.merge(movies_df_3, left_on=\"movieId\", right_index=True, how=\"left\")\n",
    "df_merged = df_merged.dropna()"
   ],
   "metadata": {
    "collapsed": false,
    "ExecuteTime": {
     "end_time": "2025-02-16T10:17:39.410333300Z",
     "start_time": "2025-02-16T10:17:33.427680200Z"
    }
   },
   "execution_count": 10
  },
  {
   "cell_type": "code",
   "outputs": [],
   "source": [
    "df_4, test = train_test_split(df_merged, test_size=0.1, random_state=42)\n",
    "df_4.reset_index(inplace=True, drop=True)\n",
    "test.reset_index(inplace=True, drop=True)\n",
    "\n",
    "x = df_4.drop(columns='rating')\n",
    "y = df_4['rating']\n",
    "x_train, x_val, y_train, y_val = train_test_split(x, y, test_size=0.15, random_state=42)\n",
    "\n",
    "x_test = test.drop(columns='rating')\n",
    "y_test = test['rating']"
   ],
   "metadata": {
    "collapsed": false,
    "ExecuteTime": {
     "end_time": "2025-02-16T10:17:49.125743100Z",
     "start_time": "2025-02-16T10:17:39.415822300Z"
    }
   },
   "execution_count": 11
  },
  {
   "cell_type": "code",
   "outputs": [],
   "source": [
    "users_df_1 = x_test[['userId', 'movieId']]\n",
    "users_df_1.columns = ['user', 'item']"
   ],
   "metadata": {
    "collapsed": false,
    "ExecuteTime": {
     "end_time": "2025-02-16T11:09:08.213865400Z",
     "start_time": "2025-02-16T11:09:08.183921400Z"
    }
   },
   "execution_count": 21
  },
  {
   "cell_type": "code",
   "outputs": [],
   "source": [
    "# # 데이터 저장 경로\n",
    "# train_val_test_split = {\n",
    "#     \"x_train\": x_train,\n",
    "#     \"y_train\": y_train,\n",
    "#     \"x_val\": x_val,\n",
    "#     \"y_val\": y_val,\n",
    "#     \"x_test\": x_test,\n",
    "#     \"y_test\": y_test\n",
    "# }\n",
    "# \n",
    "# # pickle 파일로 저장\n",
    "# file_path = \"../Database/train_val_test_for_moiverating.pkl\"\n",
    "# with open(file_path, \"wb\") as f:\n",
    "#     pickle.dump(train_val_test_split, f)"
   ],
   "metadata": {
    "collapsed": false,
    "ExecuteTime": {
     "end_time": "2025-02-16T10:54:17.962810700Z",
     "start_time": "2025-02-16T10:54:17.956803600Z"
    }
   },
   "execution_count": 19
  },
  {
   "cell_type": "code",
   "outputs": [],
   "source": [
    "users_df_1.to_csv('../Database/train_items.csv')"
   ],
   "metadata": {
    "collapsed": false,
    "ExecuteTime": {
     "end_time": "2025-02-16T11:09:21.496795700Z",
     "start_time": "2025-02-16T11:09:18.472019100Z"
    }
   },
   "execution_count": 23
  },
  {
   "cell_type": "code",
   "outputs": [],
   "source": [
    "with open(\"../Database/Ml_item2att.json\", \"w\", encoding=\"utf-8\") as f:\n",
    "    json.dump(att_dict, f, ensure_ascii=False, indent=4)"
   ],
   "metadata": {
    "collapsed": false,
    "ExecuteTime": {
     "end_time": "2025-02-16T10:18:17.917284100Z",
     "start_time": "2025-02-16T10:18:17.331389200Z"
    }
   },
   "execution_count": 14
  },
  {
   "cell_type": "code",
   "execution_count": 15,
   "metadata": {
    "ExecuteTime": {
     "end_time": "2025-02-16T10:18:17.924173300Z",
     "start_time": "2025-02-16T10:18:17.917284100Z"
    }
   },
   "outputs": [],
   "source": [
    "# user_dict = {}\n",
    "# user_path = '../Database/users/'\n",
    "# for i, filename in enumerate(os.listdir(user_path)):\n",
    "#     user_dict[i] = pd.read_csv(user_path + filename)\n",
    "# \n",
    "# user_df = pd.DataFrame()\n",
    "# for i in range(len(os.listdir(user_path))):\n",
    "#     user_dict[i]['user'] = i\n",
    "#     user_df = pd.concat([user_df, user_dict[i]], axis=0)\n",
    "# \n",
    "# user_df.columns = [\n",
    "#     'Title',\n",
    "#     'Content',\n",
    "#     'Rating',\n",
    "#     'Like',\n",
    "#     'User'\n",
    "# ]\n",
    "# \n",
    "# # Title\n",
    "# encoder = LabelEncoder()\n",
    "# user_df['Title'] = encoder.fit_transform(user_df['Title'])\n",
    "# \n",
    "# # Rating\n",
    "# user_df['Rating'] = pd.to_numeric(user_df['Rating'], errors='coerce')\n",
    "# \n",
    "# # user_df.loc[user_df['Rating'].isna(), :]\n",
    "# user_df = user_df.dropna(how='any')\n",
    "# \n",
    "# # Format Conversion\n",
    "# df_0 = pd.DataFrame(data=user_df[['User', 'Title']].values, columns=['user', 'item'])\n",
    "# df_1 = pd.DataFrame(data=user_df[['Title', 'Rating', 'Like']].values, columns=['Title', 'Att1', 'Att2'])\n",
    "# df_1['Title'] = df_1['Title'].astype(int)\n",
    "# df_1 = df_1.groupby('Title').mean()\n",
    "# att_dict = {}\n",
    "# \n",
    "# # [[row.values[0], row.values[1]] for row in df_1.iloc[x,:] for x in range(len(df_1))]\n",
    "# \n",
    "# for i, row in enumerate(df_1.values):\n",
    "#     att_dict[df_1.index[i]] = [row[0], row[1]]\n",
    "# \n",
    "# att_dict = {int(key): value for key, value in att_dict.items()}\n",
    "# \n",
    "# df_0.to_csv('../Database/train_items.csv')\n",
    "# # att_dict.to_json('../Database/item2att.json')\n",
    "# \n",
    "# import json\n",
    "# \n",
    "# with open(\"../Database/Ml_item2att.json\", \"w\", encoding=\"utf-8\") as f:\n",
    "#     json.dump(att_dict, f, ensure_ascii=False, indent=4)\n",
    "# \n",
    "# print(\"JSON 파일 저장 완료!\")"
   ]
  }
 ],
 "metadata": {
  "kernelspec": {
   "display_name": "base",
   "language": "python",
   "name": "python3"
  },
  "language_info": {
   "codemirror_mode": {
    "name": "ipython",
    "version": 3
   },
   "file_extension": ".py",
   "mimetype": "text/x-python",
   "name": "python",
   "nbconvert_exporter": "python",
   "pygments_lexer": "ipython3",
   "version": "3.12.3"
  }
 },
 "nbformat": 4,
 "nbformat_minor": 2
}
